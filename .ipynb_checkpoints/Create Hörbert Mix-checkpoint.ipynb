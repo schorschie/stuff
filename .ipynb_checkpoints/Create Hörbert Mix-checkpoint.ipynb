{
 "cells": [
  {
   "cell_type": "code",
   "execution_count": 1,
   "id": "9afb2ffd",
   "metadata": {},
   "outputs": [],
   "source": [
    "import json\n",
    "import youtube_dl"
   ]
  },
  {
   "cell_type": "code",
   "execution_count": 2,
   "id": "663e2843",
   "metadata": {},
   "outputs": [
    {
     "data": {
      "text/plain": [
       "{'Button 0': [{'Name': 'Baby Shark',\n",
       "   'Link': 'https://www.youtube.com/watch?v=nwR6cCW4LsM'},\n",
       "  {'Name': 'The Wheels on the Bus',\n",
       "   'Link': 'https://www.youtube.com/watch?v=oLnd4G7dsHg'},\n",
       "  {'Name': 'Daddy Finger, Mommy Finger',\n",
       "   'Link': 'https://www.youtube.com/watch?v=xU5GLNvvix0'}],\n",
       " 'Button 1': [{'Name': 'Grün, grün, grün sind alle meine Kleider',\n",
       "   'Link': 'https://www.youtube.com/watch?v=7UxEbiI3cFQ'},\n",
       "  {'Name': 'Ich habe einen kleinen Papagei',\n",
       "   'Link': 'https://www.youtube.com/watch?v=cR_T1nqhwOs'},\n",
       "  {'Name': 'Das Krokodil-Lied',\n",
       "   'Link': 'https://www.youtube.com/watch?v=rC18LyHbQns'}],\n",
       " 'Button 3': [{'Name': 'Nudeltag',\n",
       "   'Link': 'https://www.youtube.com/watch?v=L1QK9G5efyY'},\n",
       "  {'Name': 'Das ABC Lied',\n",
       "   'Link': 'https://www.youtube.com/watch?v=LoAHwtk0HKc'},\n",
       "  {'Name': 'Ein Mann der sich Kolumbus nannt',\n",
       "   'Link': 'https://www.youtube.com/watch?v=t_fLM3bp6oE'}],\n",
       " 'Button 4': [{'Name': \"If you're happy\",\n",
       "   'Link': 'https://www.youtube.com/watch?v=wqvQAcloTRQ'},\n",
       "  {'Name': 'Old MacDonald',\n",
       "   'Link': 'https://www.youtube.com/watch?v=FNW-_O9u0iA'},\n",
       "  {'Name': 'O Du lieber Augustin',\n",
       "   'Link': 'https://www.youtube.com/watch?v=8PdAwGx7bJE'}],\n",
       " 'Button 5': [{'Name': 'Mit dem Rad',\n",
       "   'Link': 'https://www.youtube.com/watch?v=h09rmThp7pM'},\n",
       "  {'Name': 'Backe, backe Kuchen',\n",
       "   'Link': 'https://www.youtube.com/watch?v=ZuSRAWYee4M'},\n",
       "  {'Name': 'Meine Oma fährt im Hühnerstall Motorrad',\n",
       "   'Link': 'https://www.youtube.com/watch?v=f6EZDiSbZ9k'}],\n",
       " 'Button 6': [{'Name': 'Itze Bitze Spinne',\n",
       "   'Link': 'https://www.youtube.com/watch?v=QHHlsrxtX48'},\n",
       "  {'Name': 'Hoppe, hoppe Reiter',\n",
       "   'Link': 'https://www.youtube.com/watch?v=4ikCcVH_sic'},\n",
       "  {'Name': \"Hab 'ne Tante aus Marokko\",\n",
       "   'Link': 'https://www.youtube.com/watch?v=TUdqc_sT7z4'}],\n",
       " 'Button 7': [{'Name': 'Das Lied über mich',\n",
       "   'Link': 'https://www.youtube.com/watch?v=qCzLMZuLOWc'},\n",
       "  {'Name': 'Laurentia, liebe Laurentia mein',\n",
       "   'Link': 'https://www.youtube.com/watch?v=xUEh2v-t8pk'},\n",
       "  {'Name': 'Hoppelhase Hans',\n",
       "   'Link': 'https://www.youtube.com/watch?v=VLgHo4j0n_A'}],\n",
       " 'Button 8': [{'Name': 'Der Pavianpopo',\n",
       "   'Link': 'https://www.youtube.com/watch?v=R5kZK9UqTZc'},\n",
       "  {'Name': 'Meine Hände sind verschwunden',\n",
       "   'Link': 'https://www.youtube.com/c/kinderlieder'},\n",
       "  {'Name': 'Die Hai-Familie',\n",
       "   'Link': 'https://www.youtube.com/watch?v=hnyjrVuZYbc'}]}"
      ]
     },
     "execution_count": 2,
     "metadata": {},
     "output_type": "execute_result"
    }
   ],
   "source": [
    "with open('hoerbert.json', 'r', encoding='utf-8') as f:\n",
    "    hoerbert = json.load(f)\n",
    "hoerbert"
   ]
  }
 ],
 "metadata": {
  "kernelspec": {
   "display_name": "Python [conda env:.conda-stuff]",
   "language": "python",
   "name": "conda-env-.conda-stuff-py"
  },
  "language_info": {
   "codemirror_mode": {
    "name": "ipython",
    "version": 3
   },
   "file_extension": ".py",
   "mimetype": "text/x-python",
   "name": "python",
   "nbconvert_exporter": "python",
   "pygments_lexer": "ipython3",
   "version": "3.6.15"
  }
 },
 "nbformat": 4,
 "nbformat_minor": 5
}
