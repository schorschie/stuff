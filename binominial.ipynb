{
 "cells": [
  {
   "cell_type": "code",
   "execution_count": 42,
   "id": "39cc7d40",
   "metadata": {},
   "outputs": [],
   "source": [
    "import numpy as np\n",
    "import scipy.special as sp\n",
    "import matplotlib.pyplot as plt"
   ]
  },
  {
   "cell_type": "code",
   "execution_count": 25,
   "id": "0e84400b",
   "metadata": {},
   "outputs": [
    {
     "data": {
      "text/plain": [
       "3.512999999999821"
      ]
     },
     "execution_count": 25,
     "metadata": {},
     "output_type": "execute_result"
    }
   ],
   "source": [
    "n=3000\n",
    "sum( np.random.randint(1, 7, n) / n )"
   ]
  },
  {
   "cell_type": "code",
   "execution_count": 52,
   "id": "2d246c5e",
   "metadata": {},
   "outputs": [
    {
     "data": {
      "image/png": "[encoded data removed]",
      "text/plain": [
       "<Figure size 432x288 with 1 Axes>"
      ]
     },
     "metadata": {
      "needs_background": "light"
     },
     "output_type": "display_data"
    }
   ],
   "source": [
    "p = .4\n",
    "n = 100\n",
    "\n",
    "f = np.empty(n+1)\n",
    "i = range(0, 1+n)\n",
    "for k in i:\n",
    "    f[k] = sp.comb(n, k) * p**k * (1-p)**(n-k)\n",
    "\n",
    "plt.bar(i, f) ;"
   ]
  },
  {
   "cell_type": "code",
   "execution_count": null,
   "id": "eb62eff4",
   "metadata": {},
   "outputs": [],
   "source": []
  }
 ],
 "metadata": {
  "kernelspec": {
   "display_name": "Python 3",
   "language": "python",
   "name": "python3"
  },
  "language_info": {
   "codemirror_mode": {
    "name": "ipython",
    "version": 3
   },
   "file_extension": ".py",
   "mimetype": "text/x-python",
   "name": "python",
   "nbconvert_exporter": "python",
   "pygments_lexer": "ipython3",
   "version": "3.6.15"
  }
 },
 "nbformat": 4,
 "nbformat_minor": 5
}
