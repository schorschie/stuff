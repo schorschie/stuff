{
 "cells": [
  {
   "cell_type": "code",
   "execution_count": 2,
   "id": "00df9119",
   "metadata": {},
   "outputs": [],
   "source": [
    "import numpy as np\n",
    "import matplotlib.pyplot as plt\n",
    "import scipy.stats as stats\n",
    "import pandas as pd"
   ]
  },
  {
   "cell_type": "code",
   "execution_count": 47,
   "id": "e35df1ab",
   "metadata": {},
   "outputs": [
    {
     "data": {
      "text/plain": [
       "[<matplotlib.lines.Line2D at 0x19d029d2390>]"
      ]
     },
     "execution_count": 47,
     "metadata": {},
     "output_type": "execute_result"
    },
    {
     "data": {
      "image/png": "[encoded data removed]",
      "text/plain": [
       "<Figure size 432x288 with 1 Axes>"
      ]
     },
     "metadata": {
      "needs_background": "light"
     },
     "output_type": "display_data"
    }
   ],
   "source": [
    "n = 5000\n",
    "q = 100\n",
    "np.random.seed(seed=112)\n",
    "\n",
    "lot_a = np.random.normal(loc=70,\n",
    "                         scale=5,\n",
    "                         size=n)\n",
    "lot_b = stats.t.rvs(df=4,\n",
    "                    loc=70,\n",
    "                    scale=5,\n",
    "                    size=n)\n",
    "\n",
    "df = pd.DataFrame(np.array([lot_a, lot_b]).T,\n",
    "                  columns=['A', 'B'])\n",
    "\n",
    "dq = df.quantile(np.arange(0, 1 + 1/q, 1/q))\n",
    "\n",
    "ax = dq.plot(x='B',\n",
    "             y='A',\n",
    "             kind='scatter') ;\n",
    "ax.plot(dq.B, dq.B,\n",
    "       color='red')"
   ]
  },
  {
   "cell_type": "code",
   "execution_count": 42,
   "id": "03f708ab",
   "metadata": {},
   "outputs": [
    {
     "data": {
      "text/plain": [
       "array([50.69970423, 67.10263417, 67.92659371, 68.39407991, 68.84305831,\n",
       "       69.14405371, 69.49631064, 69.74686559, 70.08585662, 70.26002583,\n",
       "       70.46951496, 70.65663191, 70.91397495, 71.17806893, 71.48118111,\n",
       "       71.86929834, 72.26906847, 72.7311093 , 73.44175498, 74.33876207,\n",
       "       81.11188098])"
      ]
     },
     "execution_count": 42,
     "metadata": {},
     "output_type": "execute_result"
    }
   ],
   "source": [
    "\n"
   ]
  }
 ],
 "metadata": {
  "kernelspec": {
   "display_name": "Python 3",
   "language": "python",
   "name": "python3"
  },
  "language_info": {
   "codemirror_mode": {
    "name": "ipython",
    "version": 3
   },
   "file_extension": ".py",
   "mimetype": "text/x-python",
   "name": "python",
   "nbconvert_exporter": "python",
   "pygments_lexer": "ipython3",
   "version": "3.6.15"
  }
 },
 "nbformat": 4,
 "nbformat_minor": 5
}
